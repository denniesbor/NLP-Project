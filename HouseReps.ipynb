{
  "cells": [
    {
      "cell_type": "markdown",
      "metadata": {
        "id": "view-in-github",
        "colab_type": "text"
      },
      "source": [
        "<a href=\"https://colab.research.google.com/github/denniesbor/NLP-Project/blob/testing/HouseReps.ipynb\" target=\"_parent\"><img src=\"https://colab.research.google.com/assets/colab-badge.svg\" alt=\"Open In Colab\"/></a>"
      ]
    },
    {
      "cell_type": "markdown",
      "metadata": {
        "id": "9HntqTQcPUaR"
      },
      "source": [
        "## **NLP Analysis of House Reps**"
      ]
    },
    {
      "cell_type": "code",
      "execution_count": 1,
      "metadata": {
        "colab": {
          "base_uri": "https://localhost:8080/"
        },
        "id": "ZuVVClbiPSeC",
        "outputId": "e92731d3-d257-43df-ccb8-94e5f76be6cd"
      },
      "outputs": [
        {
          "output_type": "stream",
          "name": "stdout",
          "text": [
            "Mounted at /content/drive\n"
          ]
        }
      ],
      "source": [
        "from google.colab import drive\n",
        "drive.mount('/content/drive')"
      ]
    },
    {
      "cell_type": "code",
      "execution_count": 2,
      "metadata": {
        "id": "wbIWajr7PSjf"
      },
      "outputs": [],
      "source": [
        "# import libraries\n",
        "\n",
        "import pandas as pd\n",
        "import numpy as np\n",
        "import re\n",
        "import seaborn as sns\n",
        "from wordcloud import wordcloud\n",
        "import matplotlib.pyplot as plt\n",
        "plt.style.use('fivethirtyeight')\n",
        "\n",
        "from wordcloud import WordCloud, STOPWORDS, ImageColorGenerator\n",
        "import nltk\n",
        "from nltk.corpus import stopwords\n",
        "\n",
        "from sklearn.feature_extraction.text import CountVectorizer\n",
        "from collections import  Counter\n",
        "\n",
        "import plotly\n",
        "import plotly.express as px\n",
        "import plotly.graph_objs as go\n",
        "import plotly.offline as pyo\n",
        "from plotly.subplots import make_subplots\n",
        "\n",
        "sns.set(rc={'figure.figsize':(20,10)})"
      ]
    },
    {
      "cell_type": "code",
      "execution_count": 3,
      "metadata": {
        "id": "8ZBIolBCRPgN"
      },
      "outputs": [],
      "source": [
        "# !cp /content/TweetsPD.csv /content/drive/MyDrive/Summer2022"
      ]
    },
    {
      "cell_type": "markdown",
      "metadata": {
        "id": "Q132e6LdQApK"
      },
      "source": [
        "### Load Data"
      ]
    },
    {
      "cell_type": "code",
      "execution_count": 4,
      "metadata": {
        "id": "Ki1cXTkcPSmd"
      },
      "outputs": [],
      "source": [
        "# read csv file\n",
        "\n",
        "df = pd.read_csv('/content/drive/MyDrive/Summer2022/TweetsPD.csv')\n",
        "# change date col to datetime obj\n",
        "df.time_stamp = pd.to_datetime(df.time_stamp)\n"
      ]
    },
    {
      "cell_type": "code",
      "execution_count": 5,
      "metadata": {
        "colab": {
          "base_uri": "https://localhost:8080/",
          "height": 206
        },
        "id": "6C_WSC3xPSpJ",
        "outputId": "17308be0-991f-4d2c-a3c5-01da7f58eeac"
      },
      "outputs": [
        {
          "output_type": "execute_result",
          "data": {
            "text/plain": [
              "  screen_name                                             tweets party  \\\n",
              "0    RepAdams  Early voting for Charlotte City Council electi...     D   \n",
              "1    RepAdams            #BlackGirlMagic https://t.co/0liU0LZk0j     D   \n",
              "2    RepAdams  Congrats to Megan Rapinoe and all of today's P...     D   \n",
              "3    RepAdams  16 million Yemenis - including 2 million child...     D   \n",
              "4    RepAdams  Please join us at Davidson Town Hall and Corne...     D   \n",
              "\n",
              "                 time_stamp  \n",
              "0 2022-07-07 21:27:29+00:00  \n",
              "1 2022-07-07 20:47:50+00:00  \n",
              "2 2022-07-07 19:24:26+00:00  \n",
              "3 2022-07-07 15:57:15+00:00  \n",
              "4 2022-07-07 15:50:26+00:00  "
            ],
            "text/html": [
              "\n",
              "  <div id=\"df-82e3d792-27f6-4913-a0b7-0ec5596f1c16\">\n",
              "    <div class=\"colab-df-container\">\n",
              "      <div>\n",
              "<style scoped>\n",
              "    .dataframe tbody tr th:only-of-type {\n",
              "        vertical-align: middle;\n",
              "    }\n",
              "\n",
              "    .dataframe tbody tr th {\n",
              "        vertical-align: top;\n",
              "    }\n",
              "\n",
              "    .dataframe thead th {\n",
              "        text-align: right;\n",
              "    }\n",
              "</style>\n",
              "<table border=\"1\" class=\"dataframe\">\n",
              "  <thead>\n",
              "    <tr style=\"text-align: right;\">\n",
              "      <th></th>\n",
              "      <th>screen_name</th>\n",
              "      <th>tweets</th>\n",
              "      <th>party</th>\n",
              "      <th>time_stamp</th>\n",
              "    </tr>\n",
              "  </thead>\n",
              "  <tbody>\n",
              "    <tr>\n",
              "      <th>0</th>\n",
              "      <td>RepAdams</td>\n",
              "      <td>Early voting for Charlotte City Council electi...</td>\n",
              "      <td>D</td>\n",
              "      <td>2022-07-07 21:27:29+00:00</td>\n",
              "    </tr>\n",
              "    <tr>\n",
              "      <th>1</th>\n",
              "      <td>RepAdams</td>\n",
              "      <td>#BlackGirlMagic https://t.co/0liU0LZk0j</td>\n",
              "      <td>D</td>\n",
              "      <td>2022-07-07 20:47:50+00:00</td>\n",
              "    </tr>\n",
              "    <tr>\n",
              "      <th>2</th>\n",
              "      <td>RepAdams</td>\n",
              "      <td>Congrats to Megan Rapinoe and all of today's P...</td>\n",
              "      <td>D</td>\n",
              "      <td>2022-07-07 19:24:26+00:00</td>\n",
              "    </tr>\n",
              "    <tr>\n",
              "      <th>3</th>\n",
              "      <td>RepAdams</td>\n",
              "      <td>16 million Yemenis - including 2 million child...</td>\n",
              "      <td>D</td>\n",
              "      <td>2022-07-07 15:57:15+00:00</td>\n",
              "    </tr>\n",
              "    <tr>\n",
              "      <th>4</th>\n",
              "      <td>RepAdams</td>\n",
              "      <td>Please join us at Davidson Town Hall and Corne...</td>\n",
              "      <td>D</td>\n",
              "      <td>2022-07-07 15:50:26+00:00</td>\n",
              "    </tr>\n",
              "  </tbody>\n",
              "</table>\n",
              "</div>\n",
              "      <button class=\"colab-df-convert\" onclick=\"convertToInteractive('df-82e3d792-27f6-4913-a0b7-0ec5596f1c16')\"\n",
              "              title=\"Convert this dataframe to an interactive table.\"\n",
              "              style=\"display:none;\">\n",
              "        \n",
              "  <svg xmlns=\"http://www.w3.org/2000/svg\" height=\"24px\"viewBox=\"0 0 24 24\"\n",
              "       width=\"24px\">\n",
              "    <path d=\"M0 0h24v24H0V0z\" fill=\"none\"/>\n",
              "    <path d=\"M18.56 5.44l.94 2.06.94-2.06 2.06-.94-2.06-.94-.94-2.06-.94 2.06-2.06.94zm-11 1L8.5 8.5l.94-2.06 2.06-.94-2.06-.94L8.5 2.5l-.94 2.06-2.06.94zm10 10l.94 2.06.94-2.06 2.06-.94-2.06-.94-.94-2.06-.94 2.06-2.06.94z\"/><path d=\"M17.41 7.96l-1.37-1.37c-.4-.4-.92-.59-1.43-.59-.52 0-1.04.2-1.43.59L10.3 9.45l-7.72 7.72c-.78.78-.78 2.05 0 2.83L4 21.41c.39.39.9.59 1.41.59.51 0 1.02-.2 1.41-.59l7.78-7.78 2.81-2.81c.8-.78.8-2.07 0-2.86zM5.41 20L4 18.59l7.72-7.72 1.47 1.35L5.41 20z\"/>\n",
              "  </svg>\n",
              "      </button>\n",
              "      \n",
              "  <style>\n",
              "    .colab-df-container {\n",
              "      display:flex;\n",
              "      flex-wrap:wrap;\n",
              "      gap: 12px;\n",
              "    }\n",
              "\n",
              "    .colab-df-convert {\n",
              "      background-color: #E8F0FE;\n",
              "      border: none;\n",
              "      border-radius: 50%;\n",
              "      cursor: pointer;\n",
              "      display: none;\n",
              "      fill: #1967D2;\n",
              "      height: 32px;\n",
              "      padding: 0 0 0 0;\n",
              "      width: 32px;\n",
              "    }\n",
              "\n",
              "    .colab-df-convert:hover {\n",
              "      background-color: #E2EBFA;\n",
              "      box-shadow: 0px 1px 2px rgba(60, 64, 67, 0.3), 0px 1px 3px 1px rgba(60, 64, 67, 0.15);\n",
              "      fill: #174EA6;\n",
              "    }\n",
              "\n",
              "    [theme=dark] .colab-df-convert {\n",
              "      background-color: #3B4455;\n",
              "      fill: #D2E3FC;\n",
              "    }\n",
              "\n",
              "    [theme=dark] .colab-df-convert:hover {\n",
              "      background-color: #434B5C;\n",
              "      box-shadow: 0px 1px 3px 1px rgba(0, 0, 0, 0.15);\n",
              "      filter: drop-shadow(0px 1px 2px rgba(0, 0, 0, 0.3));\n",
              "      fill: #FFFFFF;\n",
              "    }\n",
              "  </style>\n",
              "\n",
              "      <script>\n",
              "        const buttonEl =\n",
              "          document.querySelector('#df-82e3d792-27f6-4913-a0b7-0ec5596f1c16 button.colab-df-convert');\n",
              "        buttonEl.style.display =\n",
              "          google.colab.kernel.accessAllowed ? 'block' : 'none';\n",
              "\n",
              "        async function convertToInteractive(key) {\n",
              "          const element = document.querySelector('#df-82e3d792-27f6-4913-a0b7-0ec5596f1c16');\n",
              "          const dataTable =\n",
              "            await google.colab.kernel.invokeFunction('convertToInteractive',\n",
              "                                                     [key], {});\n",
              "          if (!dataTable) return;\n",
              "\n",
              "          const docLinkHtml = 'Like what you see? Visit the ' +\n",
              "            '<a target=\"_blank\" href=https://colab.research.google.com/notebooks/data_table.ipynb>data table notebook</a>'\n",
              "            + ' to learn more about interactive tables.';\n",
              "          element.innerHTML = '';\n",
              "          dataTable['output_type'] = 'display_data';\n",
              "          await google.colab.output.renderOutput(dataTable, element);\n",
              "          const docLink = document.createElement('div');\n",
              "          docLink.innerHTML = docLinkHtml;\n",
              "          element.appendChild(docLink);\n",
              "        }\n",
              "      </script>\n",
              "    </div>\n",
              "  </div>\n",
              "  "
            ]
          },
          "metadata": {},
          "execution_count": 5
        }
      ],
      "source": [
        "df.head(5)"
      ]
    },
    {
      "cell_type": "markdown",
      "metadata": {
        "id": "ZOeyJJN-RieF"
      },
      "source": [
        "### Clean Tweets"
      ]
    },
    {
      "cell_type": "code",
      "execution_count": 6,
      "metadata": {
        "id": "jjLnsCDSRfqk"
      },
      "outputs": [],
      "source": [
        "def clean_tweets(tweet:str):\n",
        "\n",
        "  \"\"\" This function cleans the tweets\n",
        "\n",
        "  Attrs\n",
        "  ---------\n",
        "  input: str\n",
        "    tweet\n",
        "  Returns\n",
        "  ---------\n",
        "  output: str\n",
        "    clean tweet \n",
        "  \"\"\"\n",
        "  \n",
        "  tweet = tweet.lower()\n",
        "\n",
        "  #Remove twitter handlers\n",
        "  tweet = re.sub('@[^\\s]+','',tweet)\n",
        "\n",
        "  #remove hashtags\n",
        "  tweet = re.sub(r'\\B#\\S+','',tweet)\n",
        "\n",
        "  # Remove URLS\n",
        "  tweet = re.sub(r\"http\\S+\", \"\", tweet)\n",
        "\n",
        "  #remove all single characters\n",
        "  tweet = re.sub(r'\\s+[a-zA-Z]\\s+', '', tweet)\n",
        "\n",
        "  # Substituting multiple spaces with single space\n",
        "  tweet = re.sub(r'\\s+', ' ', tweet, flags=re.I)\n",
        "\n",
        "  # Remove all the special characters\n",
        "  tweet = ' '.join(re.findall(r'\\w+', tweet))\n",
        "\n",
        "  return tweet"
      ]
    },
    {
      "cell_type": "markdown",
      "metadata": {
        "id": "7BxhMutPrRgu"
      },
      "source": [
        "## EDA"
      ]
    },
    {
      "cell_type": "code",
      "execution_count": 7,
      "metadata": {
        "id": "IZPR1yB_RftK"
      },
      "outputs": [],
      "source": [
        "# apply the function\n",
        "\n",
        "df.tweets = df.tweets.apply(clean_tweets)"
      ]
    },
    {
      "cell_type": "code",
      "execution_count": 8,
      "metadata": {
        "colab": {
          "base_uri": "https://localhost:8080/",
          "height": 143
        },
        "id": "pDyGOjxARfws",
        "outputId": "d7dd2c65-384d-4366-97c0-4838c3a8de42"
      },
      "outputs": [
        {
          "output_type": "execute_result",
          "data": {
            "text/plain": [
              "  screen_name                                             tweets party  \\\n",
              "0    RepAdams  early voting for charlotte city council electi...     D   \n",
              "1    RepAdams                                                        D   \n",
              "2    RepAdams  congrats to megan rapinoe and all of today s p...     D   \n",
              "\n",
              "                 time_stamp  \n",
              "0 2022-07-07 21:27:29+00:00  \n",
              "1 2022-07-07 20:47:50+00:00  \n",
              "2 2022-07-07 19:24:26+00:00  "
            ],
            "text/html": [
              "\n",
              "  <div id=\"df-8b9838b4-bf34-4f03-bc5e-8fa264a8a6a9\">\n",
              "    <div class=\"colab-df-container\">\n",
              "      <div>\n",
              "<style scoped>\n",
              "    .dataframe tbody tr th:only-of-type {\n",
              "        vertical-align: middle;\n",
              "    }\n",
              "\n",
              "    .dataframe tbody tr th {\n",
              "        vertical-align: top;\n",
              "    }\n",
              "\n",
              "    .dataframe thead th {\n",
              "        text-align: right;\n",
              "    }\n",
              "</style>\n",
              "<table border=\"1\" class=\"dataframe\">\n",
              "  <thead>\n",
              "    <tr style=\"text-align: right;\">\n",
              "      <th></th>\n",
              "      <th>screen_name</th>\n",
              "      <th>tweets</th>\n",
              "      <th>party</th>\n",
              "      <th>time_stamp</th>\n",
              "    </tr>\n",
              "  </thead>\n",
              "  <tbody>\n",
              "    <tr>\n",
              "      <th>0</th>\n",
              "      <td>RepAdams</td>\n",
              "      <td>early voting for charlotte city council electi...</td>\n",
              "      <td>D</td>\n",
              "      <td>2022-07-07 21:27:29+00:00</td>\n",
              "    </tr>\n",
              "    <tr>\n",
              "      <th>1</th>\n",
              "      <td>RepAdams</td>\n",
              "      <td></td>\n",
              "      <td>D</td>\n",
              "      <td>2022-07-07 20:47:50+00:00</td>\n",
              "    </tr>\n",
              "    <tr>\n",
              "      <th>2</th>\n",
              "      <td>RepAdams</td>\n",
              "      <td>congrats to megan rapinoe and all of today s p...</td>\n",
              "      <td>D</td>\n",
              "      <td>2022-07-07 19:24:26+00:00</td>\n",
              "    </tr>\n",
              "  </tbody>\n",
              "</table>\n",
              "</div>\n",
              "      <button class=\"colab-df-convert\" onclick=\"convertToInteractive('df-8b9838b4-bf34-4f03-bc5e-8fa264a8a6a9')\"\n",
              "              title=\"Convert this dataframe to an interactive table.\"\n",
              "              style=\"display:none;\">\n",
              "        \n",
              "  <svg xmlns=\"http://www.w3.org/2000/svg\" height=\"24px\"viewBox=\"0 0 24 24\"\n",
              "       width=\"24px\">\n",
              "    <path d=\"M0 0h24v24H0V0z\" fill=\"none\"/>\n",
              "    <path d=\"M18.56 5.44l.94 2.06.94-2.06 2.06-.94-2.06-.94-.94-2.06-.94 2.06-2.06.94zm-11 1L8.5 8.5l.94-2.06 2.06-.94-2.06-.94L8.5 2.5l-.94 2.06-2.06.94zm10 10l.94 2.06.94-2.06 2.06-.94-2.06-.94-.94-2.06-.94 2.06-2.06.94z\"/><path d=\"M17.41 7.96l-1.37-1.37c-.4-.4-.92-.59-1.43-.59-.52 0-1.04.2-1.43.59L10.3 9.45l-7.72 7.72c-.78.78-.78 2.05 0 2.83L4 21.41c.39.39.9.59 1.41.59.51 0 1.02-.2 1.41-.59l7.78-7.78 2.81-2.81c.8-.78.8-2.07 0-2.86zM5.41 20L4 18.59l7.72-7.72 1.47 1.35L5.41 20z\"/>\n",
              "  </svg>\n",
              "      </button>\n",
              "      \n",
              "  <style>\n",
              "    .colab-df-container {\n",
              "      display:flex;\n",
              "      flex-wrap:wrap;\n",
              "      gap: 12px;\n",
              "    }\n",
              "\n",
              "    .colab-df-convert {\n",
              "      background-color: #E8F0FE;\n",
              "      border: none;\n",
              "      border-radius: 50%;\n",
              "      cursor: pointer;\n",
              "      display: none;\n",
              "      fill: #1967D2;\n",
              "      height: 32px;\n",
              "      padding: 0 0 0 0;\n",
              "      width: 32px;\n",
              "    }\n",
              "\n",
              "    .colab-df-convert:hover {\n",
              "      background-color: #E2EBFA;\n",
              "      box-shadow: 0px 1px 2px rgba(60, 64, 67, 0.3), 0px 1px 3px 1px rgba(60, 64, 67, 0.15);\n",
              "      fill: #174EA6;\n",
              "    }\n",
              "\n",
              "    [theme=dark] .colab-df-convert {\n",
              "      background-color: #3B4455;\n",
              "      fill: #D2E3FC;\n",
              "    }\n",
              "\n",
              "    [theme=dark] .colab-df-convert:hover {\n",
              "      background-color: #434B5C;\n",
              "      box-shadow: 0px 1px 3px 1px rgba(0, 0, 0, 0.15);\n",
              "      filter: drop-shadow(0px 1px 2px rgba(0, 0, 0, 0.3));\n",
              "      fill: #FFFFFF;\n",
              "    }\n",
              "  </style>\n",
              "\n",
              "      <script>\n",
              "        const buttonEl =\n",
              "          document.querySelector('#df-8b9838b4-bf34-4f03-bc5e-8fa264a8a6a9 button.colab-df-convert');\n",
              "        buttonEl.style.display =\n",
              "          google.colab.kernel.accessAllowed ? 'block' : 'none';\n",
              "\n",
              "        async function convertToInteractive(key) {\n",
              "          const element = document.querySelector('#df-8b9838b4-bf34-4f03-bc5e-8fa264a8a6a9');\n",
              "          const dataTable =\n",
              "            await google.colab.kernel.invokeFunction('convertToInteractive',\n",
              "                                                     [key], {});\n",
              "          if (!dataTable) return;\n",
              "\n",
              "          const docLinkHtml = 'Like what you see? Visit the ' +\n",
              "            '<a target=\"_blank\" href=https://colab.research.google.com/notebooks/data_table.ipynb>data table notebook</a>'\n",
              "            + ' to learn more about interactive tables.';\n",
              "          element.innerHTML = '';\n",
              "          dataTable['output_type'] = 'display_data';\n",
              "          await google.colab.output.renderOutput(dataTable, element);\n",
              "          const docLink = document.createElement('div');\n",
              "          docLink.innerHTML = docLinkHtml;\n",
              "          element.appendChild(docLink);\n",
              "        }\n",
              "      </script>\n",
              "    </div>\n",
              "  </div>\n",
              "  "
            ]
          },
          "metadata": {},
          "execution_count": 8
        }
      ],
      "source": [
        "df.head(3)"
      ]
    },
    {
      "cell_type": "code",
      "execution_count": 9,
      "metadata": {
        "colab": {
          "base_uri": "https://localhost:8080/",
          "height": 206
        },
        "id": "knIACEDQRgDG",
        "outputId": "abe1996c-a417-4952-81d6-c27f096a6555"
      },
      "outputs": [
        {
          "output_type": "execute_result",
          "data": {
            "text/plain": [
              "  screen_name                                             tweets party  \\\n",
              "0    RepAdams  early voting for charlotte city council electi...     D   \n",
              "1    RepAdams  congrats to megan rapinoe and all of today s p...     D   \n",
              "2    RepAdams  16 million yemenis including 2 million childre...     D   \n",
              "3    RepAdams  please join us at davidson town hall and corne...     D   \n",
              "4    RepAdams  early voting for city of charlotte elections b...     D   \n",
              "\n",
              "                 time_stamp  \n",
              "0 2022-07-07 21:27:29+00:00  \n",
              "1 2022-07-07 19:24:26+00:00  \n",
              "2 2022-07-07 15:57:15+00:00  \n",
              "3 2022-07-07 15:50:26+00:00  \n",
              "4 2022-07-07 12:02:40+00:00  "
            ],
            "text/html": [
              "\n",
              "  <div id=\"df-500f94ee-a729-4d68-a470-d3848f2490aa\">\n",
              "    <div class=\"colab-df-container\">\n",
              "      <div>\n",
              "<style scoped>\n",
              "    .dataframe tbody tr th:only-of-type {\n",
              "        vertical-align: middle;\n",
              "    }\n",
              "\n",
              "    .dataframe tbody tr th {\n",
              "        vertical-align: top;\n",
              "    }\n",
              "\n",
              "    .dataframe thead th {\n",
              "        text-align: right;\n",
              "    }\n",
              "</style>\n",
              "<table border=\"1\" class=\"dataframe\">\n",
              "  <thead>\n",
              "    <tr style=\"text-align: right;\">\n",
              "      <th></th>\n",
              "      <th>screen_name</th>\n",
              "      <th>tweets</th>\n",
              "      <th>party</th>\n",
              "      <th>time_stamp</th>\n",
              "    </tr>\n",
              "  </thead>\n",
              "  <tbody>\n",
              "    <tr>\n",
              "      <th>0</th>\n",
              "      <td>RepAdams</td>\n",
              "      <td>early voting for charlotte city council electi...</td>\n",
              "      <td>D</td>\n",
              "      <td>2022-07-07 21:27:29+00:00</td>\n",
              "    </tr>\n",
              "    <tr>\n",
              "      <th>1</th>\n",
              "      <td>RepAdams</td>\n",
              "      <td>congrats to megan rapinoe and all of today s p...</td>\n",
              "      <td>D</td>\n",
              "      <td>2022-07-07 19:24:26+00:00</td>\n",
              "    </tr>\n",
              "    <tr>\n",
              "      <th>2</th>\n",
              "      <td>RepAdams</td>\n",
              "      <td>16 million yemenis including 2 million childre...</td>\n",
              "      <td>D</td>\n",
              "      <td>2022-07-07 15:57:15+00:00</td>\n",
              "    </tr>\n",
              "    <tr>\n",
              "      <th>3</th>\n",
              "      <td>RepAdams</td>\n",
              "      <td>please join us at davidson town hall and corne...</td>\n",
              "      <td>D</td>\n",
              "      <td>2022-07-07 15:50:26+00:00</td>\n",
              "    </tr>\n",
              "    <tr>\n",
              "      <th>4</th>\n",
              "      <td>RepAdams</td>\n",
              "      <td>early voting for city of charlotte elections b...</td>\n",
              "      <td>D</td>\n",
              "      <td>2022-07-07 12:02:40+00:00</td>\n",
              "    </tr>\n",
              "  </tbody>\n",
              "</table>\n",
              "</div>\n",
              "      <button class=\"colab-df-convert\" onclick=\"convertToInteractive('df-500f94ee-a729-4d68-a470-d3848f2490aa')\"\n",
              "              title=\"Convert this dataframe to an interactive table.\"\n",
              "              style=\"display:none;\">\n",
              "        \n",
              "  <svg xmlns=\"http://www.w3.org/2000/svg\" height=\"24px\"viewBox=\"0 0 24 24\"\n",
              "       width=\"24px\">\n",
              "    <path d=\"M0 0h24v24H0V0z\" fill=\"none\"/>\n",
              "    <path d=\"M18.56 5.44l.94 2.06.94-2.06 2.06-.94-2.06-.94-.94-2.06-.94 2.06-2.06.94zm-11 1L8.5 8.5l.94-2.06 2.06-.94-2.06-.94L8.5 2.5l-.94 2.06-2.06.94zm10 10l.94 2.06.94-2.06 2.06-.94-2.06-.94-.94-2.06-.94 2.06-2.06.94z\"/><path d=\"M17.41 7.96l-1.37-1.37c-.4-.4-.92-.59-1.43-.59-.52 0-1.04.2-1.43.59L10.3 9.45l-7.72 7.72c-.78.78-.78 2.05 0 2.83L4 21.41c.39.39.9.59 1.41.59.51 0 1.02-.2 1.41-.59l7.78-7.78 2.81-2.81c.8-.78.8-2.07 0-2.86zM5.41 20L4 18.59l7.72-7.72 1.47 1.35L5.41 20z\"/>\n",
              "  </svg>\n",
              "      </button>\n",
              "      \n",
              "  <style>\n",
              "    .colab-df-container {\n",
              "      display:flex;\n",
              "      flex-wrap:wrap;\n",
              "      gap: 12px;\n",
              "    }\n",
              "\n",
              "    .colab-df-convert {\n",
              "      background-color: #E8F0FE;\n",
              "      border: none;\n",
              "      border-radius: 50%;\n",
              "      cursor: pointer;\n",
              "      display: none;\n",
              "      fill: #1967D2;\n",
              "      height: 32px;\n",
              "      padding: 0 0 0 0;\n",
              "      width: 32px;\n",
              "    }\n",
              "\n",
              "    .colab-df-convert:hover {\n",
              "      background-color: #E2EBFA;\n",
              "      box-shadow: 0px 1px 2px rgba(60, 64, 67, 0.3), 0px 1px 3px 1px rgba(60, 64, 67, 0.15);\n",
              "      fill: #174EA6;\n",
              "    }\n",
              "\n",
              "    [theme=dark] .colab-df-convert {\n",
              "      background-color: #3B4455;\n",
              "      fill: #D2E3FC;\n",
              "    }\n",
              "\n",
              "    [theme=dark] .colab-df-convert:hover {\n",
              "      background-color: #434B5C;\n",
              "      box-shadow: 0px 1px 3px 1px rgba(0, 0, 0, 0.15);\n",
              "      filter: drop-shadow(0px 1px 2px rgba(0, 0, 0, 0.3));\n",
              "      fill: #FFFFFF;\n",
              "    }\n",
              "  </style>\n",
              "\n",
              "      <script>\n",
              "        const buttonEl =\n",
              "          document.querySelector('#df-500f94ee-a729-4d68-a470-d3848f2490aa button.colab-df-convert');\n",
              "        buttonEl.style.display =\n",
              "          google.colab.kernel.accessAllowed ? 'block' : 'none';\n",
              "\n",
              "        async function convertToInteractive(key) {\n",
              "          const element = document.querySelector('#df-500f94ee-a729-4d68-a470-d3848f2490aa');\n",
              "          const dataTable =\n",
              "            await google.colab.kernel.invokeFunction('convertToInteractive',\n",
              "                                                     [key], {});\n",
              "          if (!dataTable) return;\n",
              "\n",
              "          const docLinkHtml = 'Like what you see? Visit the ' +\n",
              "            '<a target=\"_blank\" href=https://colab.research.google.com/notebooks/data_table.ipynb>data table notebook</a>'\n",
              "            + ' to learn more about interactive tables.';\n",
              "          element.innerHTML = '';\n",
              "          dataTable['output_type'] = 'display_data';\n",
              "          await google.colab.output.renderOutput(dataTable, element);\n",
              "          const docLink = document.createElement('div');\n",
              "          docLink.innerHTML = docLinkHtml;\n",
              "          element.appendChild(docLink);\n",
              "        }\n",
              "      </script>\n",
              "    </div>\n",
              "  </div>\n",
              "  "
            ]
          },
          "metadata": {},
          "execution_count": 9
        }
      ],
      "source": [
        "# remove empty tweets\n",
        "df = df[df.tweets != '']\n",
        "df.reset_index(inplace=True, drop=True)\n",
        "df.head(5)"
      ]
    },
    {
      "cell_type": "code",
      "execution_count": 10,
      "metadata": {
        "colab": {
          "base_uri": "https://localhost:8080/",
          "height": 649
        },
        "id": "m6F9_AfE6484",
        "outputId": "2ffeec34-2460-47dc-dfaf-1445f5b8a61c"
      },
      "outputs": [
        {
          "output_type": "execute_result",
          "data": {
            "text/plain": [
              "<matplotlib.axes._subplots.AxesSubplot at 0x7fde95f34350>"
            ]
          },
          "metadata": {},
          "execution_count": 10
        },
        {
          "output_type": "display_data",
          "data": {
            "text/plain": [
              "<Figure size 1440x720 with 1 Axes>"
            ],
            "image/png": "[encoded data removed]"
          },
          "metadata": {}
        }
      ],
      "source": [
        "# tweet counts of each party\n",
        "df.party.value_counts().plot(kind='bar')"
      ]
    },
    {
      "cell_type": "code",
      "execution_count": 11,
      "metadata": {
        "colab": {
          "base_uri": "https://localhost:8080/"
        },
        "id": "Ic1zJkyWRgJZ",
        "outputId": "110e5b69-1e3d-4217-f6bd-c94d9066b3a7"
      },
      "outputs": [
        {
          "output_type": "execute_result",
          "data": {
            "text/plain": [
              "(70032, 4)"
            ]
          },
          "metadata": {},
          "execution_count": 11
        }
      ],
      "source": [
        "df.shape"
      ]
    },
    {
      "cell_type": "code",
      "execution_count": 12,
      "metadata": {
        "id": "529t8Fw12tAR"
      },
      "outputs": [],
      "source": [
        "# drop duplicates\n",
        "\n",
        "df = df.drop_duplicates(subset = ['tweets'])\n",
        "df.reset_index(inplace=True, drop=False)"
      ]
    },
    {
      "cell_type": "code",
      "execution_count": 13,
      "metadata": {
        "colab": {
          "base_uri": "https://localhost:8080/",
          "height": 206
        },
        "id": "K0KL1E1geV7F",
        "outputId": "765ddf39-19c0-4220-95e0-5025376370e8"
      },
      "outputs": [
        {
          "output_type": "execute_result",
          "data": {
            "text/plain": [
              "   index screen_name                                             tweets party  \\\n",
              "0      0    RepAdams  early voting for charlotte city council electi...     D   \n",
              "1      1    RepAdams  congrats to megan rapinoe and all of today s p...     D   \n",
              "2      2    RepAdams  16 million yemenis including 2 million childre...     D   \n",
              "3      3    RepAdams  please join us at davidson town hall and corne...     D   \n",
              "4      4    RepAdams  early voting for city of charlotte elections b...     D   \n",
              "\n",
              "                 time_stamp  \n",
              "0 2022-07-07 21:27:29+00:00  \n",
              "1 2022-07-07 19:24:26+00:00  \n",
              "2 2022-07-07 15:57:15+00:00  \n",
              "3 2022-07-07 15:50:26+00:00  \n",
              "4 2022-07-07 12:02:40+00:00  "
            ],
            "text/html": [
              "\n",
              "  <div id=\"df-f9859a82-2f2d-44e0-8aaa-e41554ab3329\">\n",
              "    <div class=\"colab-df-container\">\n",
              "      <div>\n",
              "<style scoped>\n",
              "    .dataframe tbody tr th:only-of-type {\n",
              "        vertical-align: middle;\n",
              "    }\n",
              "\n",
              "    .dataframe tbody tr th {\n",
              "        vertical-align: top;\n",
              "    }\n",
              "\n",
              "    .dataframe thead th {\n",
              "        text-align: right;\n",
              "    }\n",
              "</style>\n",
              "<table border=\"1\" class=\"dataframe\">\n",
              "  <thead>\n",
              "    <tr style=\"text-align: right;\">\n",
              "      <th></th>\n",
              "      <th>index</th>\n",
              "      <th>screen_name</th>\n",
              "      <th>tweets</th>\n",
              "      <th>party</th>\n",
              "      <th>time_stamp</th>\n",
              "    </tr>\n",
              "  </thead>\n",
              "  <tbody>\n",
              "    <tr>\n",
              "      <th>0</th>\n",
              "      <td>0</td>\n",
              "      <td>RepAdams</td>\n",
              "      <td>early voting for charlotte city council electi...</td>\n",
              "      <td>D</td>\n",
              "      <td>2022-07-07 21:27:29+00:00</td>\n",
              "    </tr>\n",
              "    <tr>\n",
              "      <th>1</th>\n",
              "      <td>1</td>\n",
              "      <td>RepAdams</td>\n",
              "      <td>congrats to megan rapinoe and all of today s p...</td>\n",
              "      <td>D</td>\n",
              "      <td>2022-07-07 19:24:26+00:00</td>\n",
              "    </tr>\n",
              "    <tr>\n",
              "      <th>2</th>\n",
              "      <td>2</td>\n",
              "      <td>RepAdams</td>\n",
              "      <td>16 million yemenis including 2 million childre...</td>\n",
              "      <td>D</td>\n",
              "      <td>2022-07-07 15:57:15+00:00</td>\n",
              "    </tr>\n",
              "    <tr>\n",
              "      <th>3</th>\n",
              "      <td>3</td>\n",
              "      <td>RepAdams</td>\n",
              "      <td>please join us at davidson town hall and corne...</td>\n",
              "      <td>D</td>\n",
              "      <td>2022-07-07 15:50:26+00:00</td>\n",
              "    </tr>\n",
              "    <tr>\n",
              "      <th>4</th>\n",
              "      <td>4</td>\n",
              "      <td>RepAdams</td>\n",
              "      <td>early voting for city of charlotte elections b...</td>\n",
              "      <td>D</td>\n",
              "      <td>2022-07-07 12:02:40+00:00</td>\n",
              "    </tr>\n",
              "  </tbody>\n",
              "</table>\n",
              "</div>\n",
              "      <button class=\"colab-df-convert\" onclick=\"convertToInteractive('df-f9859a82-2f2d-44e0-8aaa-e41554ab3329')\"\n",
              "              title=\"Convert this dataframe to an interactive table.\"\n",
              "              style=\"display:none;\">\n",
              "        \n",
              "  <svg xmlns=\"http://www.w3.org/2000/svg\" height=\"24px\"viewBox=\"0 0 24 24\"\n",
              "       width=\"24px\">\n",
              "    <path d=\"M0 0h24v24H0V0z\" fill=\"none\"/>\n",
              "    <path d=\"M18.56 5.44l.94 2.06.94-2.06 2.06-.94-2.06-.94-.94-2.06-.94 2.06-2.06.94zm-11 1L8.5 8.5l.94-2.06 2.06-.94-2.06-.94L8.5 2.5l-.94 2.06-2.06.94zm10 10l.94 2.06.94-2.06 2.06-.94-2.06-.94-.94-2.06-.94 2.06-2.06.94z\"/><path d=\"M17.41 7.96l-1.37-1.37c-.4-.4-.92-.59-1.43-.59-.52 0-1.04.2-1.43.59L10.3 9.45l-7.72 7.72c-.78.78-.78 2.05 0 2.83L4 21.41c.39.39.9.59 1.41.59.51 0 1.02-.2 1.41-.59l7.78-7.78 2.81-2.81c.8-.78.8-2.07 0-2.86zM5.41 20L4 18.59l7.72-7.72 1.47 1.35L5.41 20z\"/>\n",
              "  </svg>\n",
              "      </button>\n",
              "      \n",
              "  <style>\n",
              "    .colab-df-container {\n",
              "      display:flex;\n",
              "      flex-wrap:wrap;\n",
              "      gap: 12px;\n",
              "    }\n",
              "\n",
              "    .colab-df-convert {\n",
              "      background-color: #E8F0FE;\n",
              "      border: none;\n",
              "      border-radius: 50%;\n",
              "      cursor: pointer;\n",
              "      display: none;\n",
              "      fill: #1967D2;\n",
              "      height: 32px;\n",
              "      padding: 0 0 0 0;\n",
              "      width: 32px;\n",
              "    }\n",
              "\n",
              "    .colab-df-convert:hover {\n",
              "      background-color: #E2EBFA;\n",
              "      box-shadow: 0px 1px 2px rgba(60, 64, 67, 0.3), 0px 1px 3px 1px rgba(60, 64, 67, 0.15);\n",
              "      fill: #174EA6;\n",
              "    }\n",
              "\n",
              "    [theme=dark] .colab-df-convert {\n",
              "      background-color: #3B4455;\n",
              "      fill: #D2E3FC;\n",
              "    }\n",
              "\n",
              "    [theme=dark] .colab-df-convert:hover {\n",
              "      background-color: #434B5C;\n",
              "      box-shadow: 0px 1px 3px 1px rgba(0, 0, 0, 0.15);\n",
              "      filter: drop-shadow(0px 1px 2px rgba(0, 0, 0, 0.3));\n",
              "      fill: #FFFFFF;\n",
              "    }\n",
              "  </style>\n",
              "\n",
              "      <script>\n",
              "        const buttonEl =\n",
              "          document.querySelector('#df-f9859a82-2f2d-44e0-8aaa-e41554ab3329 button.colab-df-convert');\n",
              "        buttonEl.style.display =\n",
              "          google.colab.kernel.accessAllowed ? 'block' : 'none';\n",
              "\n",
              "        async function convertToInteractive(key) {\n",
              "          const element = document.querySelector('#df-f9859a82-2f2d-44e0-8aaa-e41554ab3329');\n",
              "          const dataTable =\n",
              "            await google.colab.kernel.invokeFunction('convertToInteractive',\n",
              "                                                     [key], {});\n",
              "          if (!dataTable) return;\n",
              "\n",
              "          const docLinkHtml = 'Like what you see? Visit the ' +\n",
              "            '<a target=\"_blank\" href=https://colab.research.google.com/notebooks/data_table.ipynb>data table notebook</a>'\n",
              "            + ' to learn more about interactive tables.';\n",
              "          element.innerHTML = '';\n",
              "          dataTable['output_type'] = 'display_data';\n",
              "          await google.colab.output.renderOutput(dataTable, element);\n",
              "          const docLink = document.createElement('div');\n",
              "          docLink.innerHTML = docLinkHtml;\n",
              "          element.appendChild(docLink);\n",
              "        }\n",
              "      </script>\n",
              "    </div>\n",
              "  </div>\n",
              "  "
            ]
          },
          "metadata": {},
          "execution_count": 13
        }
      ],
      "source": [
        "df.head(5)"
      ]
    },
    {
      "cell_type": "code",
      "execution_count": 14,
      "metadata": {
        "id": "VLDycjDAxX1p"
      },
      "outputs": [],
      "source": [
        "# query democrats and reps tweets\n",
        "\n",
        "dem_df = df[df.party=='D']\n",
        "rep_df = df[df.party=='R']"
      ]
    },
    {
      "cell_type": "markdown",
      "metadata": {
        "id": "3DC0PZ7Frb0c"
      },
      "source": [
        "### WC Visualization"
      ]
    },
    {
      "cell_type": "code",
      "execution_count": null,
      "metadata": {
        "colab": {
          "background_save": true
        },
        "id": "bZ3LnQd0v6sZ"
      },
      "outputs": [],
      "source": [
        "stopwords_set = set(STOPWORDS)\n",
        "\n",
        "\n",
        "# update stopwords set\n",
        "stopwords_set.update(['s','will','amp','must'])\n",
        "\n",
        "\n",
        "fig = plt.figure(figsize=(16,8), constrained_layout=True)\n",
        "spec = fig.add_gridspec(ncols=2, nrows=2)\n",
        "ax0 = fig.add_subplot(spec[0, :])\n",
        "plt.title('All Tweets WordCloud',fontsize=12,fontweight='bold')\n",
        "# wordcloud = WordCloud(background_color='white',\n",
        "#                           stopwords=stopwords_set,\n",
        "#                           max_words=300,\n",
        "#                           max_font_size=40, \n",
        "#                           random_state=42\n",
        "#                          ).generate(str(df['tweets']))\n",
        "wordcloud = WordCloud(stopwords=stopwords_set,\n",
        "                     scale=2,\n",
        "                      random_state=1, \n",
        "                      background_color='black', \n",
        "                      colormap='Pastel1', \n",
        "                      max_words = 300, \n",
        "                      collocations=False, \n",
        "                      normalize_plurals=False).generate(str(df['tweets']))\n",
        "plt.imshow(wordcloud)\n",
        "plt.axis('off')\n",
        "\n",
        "# WC democrats\n",
        "ax10 = fig.add_subplot(spec[1, 0])\n",
        "plt.title('Democrats Tweets WordCloud',fontsize=12,fontweight='bold')\n",
        "wordcloud = WordCloud(stopwords=stopwords_set,\n",
        "                      random_state=1, \n",
        "                      background_color='black', \n",
        "                      colormap='Pastel1', \n",
        "                      max_words = 300, \n",
        "                      collocations=False, \n",
        "                      normalize_plurals=False).generate(str(dem_df['tweets']))\n",
        "plt.imshow(wordcloud)\n",
        "plt.axis('off')\n",
        "\n",
        "# WC republicans\n",
        "ax11 = fig.add_subplot(spec[1, 1])\n",
        "plt.title('Republicans Tweets WordCloud',fontsize=12,fontweight='bold')\n",
        "wordcloud = WordCloud(stopwords=stopwords_set,\n",
        "                      random_state=1, \n",
        "                      background_color='black', \n",
        "                      colormap='Pastel1', \n",
        "                      max_words = 300, \n",
        "                      collocations=False, \n",
        "                      normalize_plurals=False).generate(str(rep_df['tweets']))\n",
        "plt.imshow(wordcloud)\n",
        "plt.axis('off')\n",
        "plt.show()"
      ]
    },
    {
      "cell_type": "markdown",
      "metadata": {
        "id": "7HgdLfhZ4iIt"
      },
      "source": [
        "### Plot of N-grams\n",
        "\n",
        "Ngrams are simply contiguous sequences of n words. If the number of words is two, it is called bigram. For 3 words it is called a trigram and so on"
      ]
    },
    {
      "cell_type": "code",
      "execution_count": null,
      "metadata": {
        "colab": {
          "background_save": true
        },
        "id": "4Jih4rjN4ORM"
      },
      "outputs": [],
      "source": [
        "# plot of the top ngrams\n",
        "def _get_top_ngram(corpus, n=None):\n",
        "  ''' Function that sorts top ngrams in descending order'''\n",
        "\n",
        "  vec = CountVectorizer(ngram_range=(n, n),stop_words='english').fit(corpus)\n",
        "  bag_of_words = vec.transform(corpus)\n",
        "  sum_words = bag_of_words.sum(axis=0) \n",
        "  words_freq = [(word, sum_words[0, idx]) \n",
        "                for word, idx in vec.vocabulary_.items()]\n",
        "  words_freq =sorted(words_freq, key = lambda x: x[1], reverse=True)\n",
        "  return words_freq[:10]\n",
        "\n",
        "\n",
        "  \n",
        "def plot_top_ngrams_barchart(text: pd.DataFrame, n=2):\n",
        "\n",
        "  ''' Function to plot ngrams.\n",
        "\n",
        "  Parameters:\n",
        "  ------------\n",
        "  input: pandas df\n",
        "    dataframe of tweets\n",
        "  \n",
        "  Returns\n",
        "  ------------\n",
        "  output: map obj\n",
        "  '''\n",
        "\n",
        "  top_n_bigrams=_get_top_ngram(text,n)[:10]\n",
        "  x,y=map(list,zip(*top_n_bigrams))\n",
        "\n",
        "  return x, y\n",
        "\n",
        "# plot \n",
        "x, y = plot_top_ngrams_barchart(df['tweets'], n=3)\n",
        "fig, ax = plt.subplots(figsize=(8,8))\n",
        "ax.set_title('Trigrams of All Tweets')\n",
        "sns.barplot(x=y,y=x)\n",
        "plt.show()\n"
      ]
    },
    {
      "cell_type": "code",
      "execution_count": null,
      "metadata": {
        "colab": {
          "background_save": true
        },
        "id": "Tm8i7lBsCTrH"
      },
      "outputs": [],
      "source": [
        "# plot the N-grams of reps and dems\n",
        "\n",
        "def plot_ngrams(n:int=2):\n",
        "\n",
        "  ''' function which returns the figure obj of the ngram plots\n",
        "    \n",
        "    parameters\n",
        "    -------------\n",
        "    input: integer\n",
        "      number of ngrams\n",
        "    \n",
        "    output: matplotlib figure obj\n",
        "      fig object\n",
        "  '''\n",
        "  name = n\n",
        "  if n == 2: name =  'Bi'\n",
        "  elif n == 3: name = 'Tri'\n",
        "  else: name == n;\n",
        "\n",
        "\n",
        "  # plot \n",
        "  x_rep, y_rep = plot_top_ngrams_barchart(rep_df['tweets'], n=n)\n",
        "  x_dem, y_dem = plot_top_ngrams_barchart(dem_df['tweets'], n=n)\n",
        "\n",
        "\n",
        "  fig = plt.figure(figsize=(16,8), constrained_layout=True)\n",
        "  spec = fig.add_gridspec(ncols=2, nrows=1)\n",
        "\n",
        "  ax0 = fig.add_subplot(spec[0, 0])\n",
        "  sns.barplot(x=x_rep,y=y_rep)\n",
        "  plt.xticks(rotation=90)\n",
        "  ax0.set_title(f'{name}-grams of Republican Tweets')\n",
        "\n",
        "  ax1 = fig.add_subplot(spec[0, 1])\n",
        "  sns.barplot(x=x_dem,y=y_dem)\n",
        "  plt.xticks(rotation=90)\n",
        "  ax1.set_title(f'{name}-grams of Dems Tweets')\n",
        "  plt.show()\n",
        "\n",
        "  return fig\n",
        "\n",
        "# bigrams\n",
        "\n",
        "fig = plot_ngrams(n=2)\n"
      ]
    },
    {
      "cell_type": "code",
      "execution_count": null,
      "metadata": {
        "colab": {
          "background_save": true
        },
        "id": "FvC_yKw7N0GB"
      },
      "outputs": [],
      "source": [
        "# trigrams\n",
        "\n",
        "fig = plot_ngrams(n=3)"
      ]
    },
    {
      "cell_type": "code",
      "execution_count": null,
      "metadata": {
        "colab": {
          "background_save": true
        },
        "id": "q8iLEezcKeJ6"
      },
      "outputs": [],
      "source": [
        "# 4grams\n",
        "\n",
        "fig = plot_ngrams(n=4)"
      ]
    },
    {
      "cell_type": "markdown",
      "metadata": {
        "id": "R6JvObRnVEMo"
      },
      "source": [
        "###  Word Cloud of Bigrams and Trigrams"
      ]
    },
    {
      "cell_type": "code",
      "execution_count": null,
      "metadata": {
        "colab": {
          "background_save": true
        },
        "id": "ArY5qaQLCTuh"
      },
      "outputs": [],
      "source": [
        "# wordCloud for bigrams and bigrams\n",
        "def get_top_ngram(corpus, n=None):\n",
        "\n",
        "  '''Function that sorts top ngrams in descending order\n",
        "  \n",
        "  '''\n",
        "\n",
        "  vec = CountVectorizer(ngram_range=(n, n),stop_words='english').fit(corpus)\n",
        "  bag_of_words = vec.transform(corpus)\n",
        "  sum_words = bag_of_words.sum(axis=0)\n",
        "  \n",
        "  join_n_grams = [''.join(word.split(' ')) for word, idx in vec.vocabulary_.items()]\n",
        "\n",
        "  return ' '.join(join_n_grams)"
      ]
    },
    {
      "cell_type": "code",
      "execution_count": null,
      "metadata": {
        "colab": {
          "background_save": true
        },
        "id": "zLKW76w7CTxs"
      },
      "outputs": [],
      "source": [
        "# bi-grams wc\n",
        "\n",
        "tweet_string = get_top_ngram(df['tweets'], n=2)\n",
        "wordcloud = WordCloud(width = 2000, \n",
        "                      height = 1334, \n",
        "                      random_state=1, \n",
        "                      background_color='black', \n",
        "                      colormap='Pastel1', \n",
        "                      max_words = 75, \n",
        "                      collocations=False, \n",
        "                      normalize_plurals=False).generate(tweet_string)\n",
        "\n",
        "plt.imshow(wordcloud)\n",
        "plt.title('Bigrams All Tweets')\n",
        "plt.axis('off')"
      ]
    },
    {
      "cell_type": "code",
      "execution_count": null,
      "metadata": {
        "colab": {
          "background_save": true
        },
        "id": "sTFrcIOMrq13"
      },
      "outputs": [],
      "source": [
        "# tri-grams wc\n",
        "\n",
        "tweet_string = get_top_ngram(df['tweets'], n=3)\n",
        "print(tweet_string[0:100])\n",
        "wordcloud = WordCloud(width = 2000, \n",
        "                      height = 1334, \n",
        "                      random_state=1, \n",
        "                      background_color='black', \n",
        "                      colormap='Pastel1', \n",
        "                      max_words = 75, \n",
        "                      collocations=False, \n",
        "                      normalize_plurals=False).generate(tweet_string)\n",
        "\n",
        "plt.imshow(wordcloud)\n",
        "plt.title('Trigrams All Tweets')\n",
        "plt.axis('off')"
      ]
    },
    {
      "cell_type": "code",
      "execution_count": null,
      "metadata": {
        "colab": {
          "background_save": true
        },
        "id": "pQbLACtvj0MV"
      },
      "outputs": [],
      "source": [
        "#  plot Trigrams as WC of dems and reps\n",
        "\n",
        "fig = plt.figure(figsize=(16,8), constrained_layout=True)\n",
        "spec = fig.add_gridspec(ncols=2, nrows=1)\n",
        "\n",
        "bi_dem = get_top_ngram(dem_df['tweets'], n=3)\n",
        "bi_rep = get_top_ngram(rep_df['tweets'], n=3)\n",
        "\n",
        "# WC bigrams democrats\n",
        "ax0 = fig.add_subplot(spec[0, 0])\n",
        "plt.title('Democrats Trigrams WordCloud',fontsize=12,fontweight='bold')\n",
        "wordcloud = WordCloud(stopwords=stopwords_set,\n",
        "                      random_state=1, \n",
        "                      background_color='black', \n",
        "                      colormap='Pastel1', \n",
        "                      max_words = 75, \n",
        "                      collocations=False, \n",
        "                      normalize_plurals=False).generate(bi_dem)\n",
        "plt.imshow(wordcloud)\n",
        "plt.axis('off')\n",
        "\n",
        "# WC bigrams republicans\n",
        "ax1 = fig.add_subplot(spec[0, 1])\n",
        "plt.title('Republicans Trigrams WordCloud',fontsize=12,fontweight='bold')\n",
        "wordcloud = WordCloud(stopwords=stopwords_set,\n",
        "                      random_state=1, \n",
        "                      background_color='black', \n",
        "                      colormap='Pastel1', \n",
        "                      max_words = 75, \n",
        "                      collocations=False, \n",
        "                      normalize_plurals=False).generate(bi_rep)\n",
        "plt.imshow(wordcloud)\n",
        "plt.axis('off')\n",
        "plt.show()"
      ]
    },
    {
      "cell_type": "markdown",
      "metadata": {
        "id": "tVtqGQpEMFQb"
      },
      "source": [
        "### TreeMap "
      ]
    },
    {
      "cell_type": "code",
      "execution_count": null,
      "metadata": {
        "colab": {
          "background_save": true
        },
        "id": "QEqbad0EMKqj"
      },
      "outputs": [],
      "source": [
        "# all tweets\n",
        "\n",
        "def all_words_array(df, name: str =''):\n",
        "\n",
        "  ''' function which takes a dataframe of tweets and returns tree map\n",
        "      as a Plotly object\n",
        "    \n",
        "    params:\n",
        "    -----------\n",
        "    input: pandas dataframe\n",
        "      df\n",
        "    \n",
        "    returns\n",
        "    ----------\n",
        "    output: obj\n",
        "      plotly figure\n",
        "  '''\n",
        "\n",
        "  all_words = [item for sublist in [word.split(' ') for word in list(df.tweets)] for item in sublist if item not in stopwords_set]\n",
        "\n",
        "  all_words=pd.Series(np.array(all_words))\n",
        "\n",
        "  common_words=all_words.value_counts()[:70].rename_axis('Common Words').reset_index(name='count')\n",
        "\n",
        "  fig = px.treemap(common_words, path=['Common Words'], values='count',title=f'70 Most Common Words in {name}Tweets')\n",
        "\n",
        "  return fig\n",
        "\n",
        "\n",
        "\n",
        "fig = all_words_array(df)\n",
        "fig.show()"
      ]
    },
    {
      "cell_type": "code",
      "execution_count": null,
      "metadata": {
        "colab": {
          "background_save": true
        },
        "id": "WdCX6naeMQqA"
      },
      "outputs": [],
      "source": [
        "# democrats\n",
        "\n",
        "fig = all_words_array(dem_df, 'Dems ')\n",
        "fig.show()"
      ]
    },
    {
      "cell_type": "code",
      "execution_count": null,
      "metadata": {
        "colab": {
          "background_save": true
        },
        "id": "4dXpJwk8MQ-P"
      },
      "outputs": [],
      "source": [
        "# republicans\n",
        "\n",
        "fig = all_words_array(rep_df, 'Reps ')\n",
        "fig.show()"
      ]
    },
    {
      "cell_type": "markdown",
      "metadata": {
        "id": "F1LxO1kKb7j6"
      },
      "source": [
        "### Text Decomposition"
      ]
    },
    {
      "cell_type": "code",
      "execution_count": null,
      "metadata": {
        "colab": {
          "background_save": true
        },
        "id": "U_aMUnBYb6vO"
      },
      "outputs": [],
      "source": [
        "from nltk import word_tokenize\n",
        "from nltk.stem import PorterStemmer\n",
        "from nltk.stem import WordNetLemmatizer\n",
        "from sklearn.decomposition import TruncatedSVD,PCA\n",
        "\n",
        "nltk.download('punkt')\n",
        "nltk.download('wordnet')\n",
        "nltk.download('omw-1.4')\n",
        "\n",
        "NUMBER_OF_COMPONENTS = 450\n",
        "\n",
        "CVZ = CountVectorizer()\n",
        "SVD = TruncatedSVD(NUMBER_OF_COMPONENTS)\n",
        "\n",
        "text_data = df.tweets.copy()\n",
        "text_data = text_data.apply(lambda x: ' '.join([word for word in x.split() if word not in STOPWORDS and len(word) > 1]).strip())\n",
        "\n",
        "stemmer= PorterStemmer()\n",
        "lemmatizer=WordNetLemmatizer()\n",
        "\n",
        "text_data = text_data.apply(lambda x: ' '.join([stemmer.stem(word) for word in word_tokenize(x)]))\n",
        "text_data = text_data.apply(lambda x: ' '.join([lemmatizer.lemmatize(word) for word in word_tokenize(x)]))\n",
        "\n",
        "C_vector = CVZ.fit_transform(text_data)\n",
        "\n",
        "\n",
        "pc_matrix = SVD.fit_transform(C_vector)\n",
        "\n",
        "evr = SVD.explained_variance_ratio_\n",
        "total_var = evr.sum() * 100\n",
        "cumsum_evr = np.cumsum(evr)\n",
        "\n",
        "trace1 = {\n",
        "    \"name\": \"individual explained variance\", \n",
        "    \"type\": \"bar\", \n",
        "    'y':evr}\n",
        "trace2 = {\n",
        "    \"name\": \"cumulative explained variance\", \n",
        "    \"type\": \"scatter\", \n",
        "     'y':cumsum_evr}\n",
        "data = [trace1, trace2]\n",
        "layout = {\n",
        "    \"xaxis\": {\"title\": \"Principal components\"}, \n",
        "    \"yaxis\": {\"title\": \"Explained variance ratio\"},\n",
        "  }\n",
        "fig = go.Figure(data=data, layout=layout)\n",
        "fig.update_layout(     title='{:.2f}% of the Tweet Text Variance Can Be Explained Using {} Words'.format(np.sum(evr)*100,NUMBER_OF_COMPONENTS))\n",
        "fig.show()"
      ]
    },
    {
      "cell_type": "code",
      "execution_count": null,
      "metadata": {
        "colab": {
          "background_save": true
        },
        "id": "OvQp-8PNd9MQ"
      },
      "outputs": [],
      "source": [
        "# best_fearures = [[CVZ.get_feature_names_out()[i],SVD.components_[0][i]] for i in SVD.components_[0].argsort()[::-1]]\n",
        "# worddf = pd.DataFrame(np.array(best_fearures[:450])[:,0]).rename(columns={0:'Word'})\n",
        "# worddf['Explained Variance'] =  np.round(evr*100,2)\n",
        "# worddf['Explained Variance'] =worddf['Explained Variance'].apply(lambda x:str(x)+'%')\n",
        "# app = []\n",
        "# for word in worddf.Word:\n",
        "#     total_count = 0\n",
        "#     for tweet in text_data:\n",
        "#         if tweet.find(word)!= -1:\n",
        "#             total_count+=1\n",
        "#     app.append(total_count)\n",
        "# worddf['Appeared_On_X_Tweets'] = app\n",
        "# worddf\n",
        "\n",
        "# fig = go.Figure()\n",
        "# fig.add_trace(\n",
        "#     go.Table(\n",
        "#         header=dict(\n",
        "#             values=['<b>Word<b>',\"<b>Explaines X% of Variance<b>\",'<b>Appeared On X Tweets<b>'],\n",
        "#             font=dict(size=19,family=\"Lato\"),\n",
        "#             align=\"center\"\n",
        "#         ),\n",
        "#         cells=dict(\n",
        "#             values=[worddf[k].tolist() for k in ['Word',\"Explained Variance\",'Appeared_On_X_Tweets']],\n",
        "#             align = \"center\")\n",
        "#     ),\n",
        "    \n",
        "# )\n",
        "\n",
        "# fig.show()"
      ]
    },
    {
      "cell_type": "code",
      "execution_count": null,
      "metadata": {
        "colab": {
          "background_save": true
        },
        "id": "RWBViUplsU5K"
      },
      "outputs": [],
      "source": [
        "worddf.to_csv('/content/drive/MyDrive/Summer2022/wordf.csv', index=False)"
      ]
    },
    {
      "cell_type": "markdown",
      "metadata": {
        "id": "AUH9tUiarFYJ"
      },
      "source": [
        "## Sentiment Analysis with Vader\n",
        "\n",
        "Vader Sentiment Analysis returns probabilities of given sentences as positive, negative, or neutral and according to developers it's attuned to sentiments expressed in social media"
      ]
    },
    {
      "cell_type": "code",
      "execution_count": null,
      "metadata": {
        "colab": {
          "background_save": true
        },
        "id": "fK8MsVlPrmPe"
      },
      "outputs": [],
      "source": [
        "#Vader Sentiment Analysis\n",
        "\n",
        "import nltk\n",
        "nltk.download('vader_lexicon')\n",
        "\n",
        "from nltk.sentiment.vader import SentimentIntensityAnalyzer as SIA\n",
        "\n",
        "sid = SIA()\n",
        "df['sentiments'] = df['tweets'].apply(lambda x: sid.polarity_scores(' '.join(re.findall(r'\\w+',x.lower()))))\n",
        "\n",
        "# extract scores of sentiments. 0.00001 added incase of a score of 0\n",
        "df['Positive Sentiment'] = df['sentiments'].apply(lambda x: x['pos']+1*(10**-6)) \n",
        "df['Neutral Sentiment'] = df['sentiments'].apply(lambda x: x['neu']+1*(10**-6))\n",
        "df['Negative Sentiment'] = df['sentiments'].apply(lambda x: x['neg']+1*(10**-6))\n",
        "df['Compound Sentiment'] = df['sentiments'].apply(lambda x: x['compound']+1*(10**-6))\n",
        "df['Sentiment Value'] = df['Compound Sentiment'].apply(lambda x: 'positive' if x > 0.05 else ('negative' if x < -0.05 else 'neutral'))\n",
        "df.drop(columns=['sentiments'],inplace=True)"
      ]
    },
    {
      "cell_type": "code",
      "execution_count": null,
      "metadata": {
        "colab": {
          "background_save": true
        },
        "id": "iO3G3u_JwHIw"
      },
      "outputs": [],
      "source": [
        "# query democrats and reps tweets\n",
        "\n",
        "dem_df = df[df.party=='D']\n",
        "rep_df = df[df.party=='R']\n",
        "\n",
        "df.head(5)"
      ]
    },
    {
      "cell_type": "markdown",
      "metadata": {
        "id": "-sTmOThV_oOA"
      },
      "source": [
        "#### Distribution of Sentiments"
      ]
    },
    {
      "cell_type": "code",
      "execution_count": null,
      "metadata": {
        "colab": {
          "background_save": true
        },
        "id": "dpDRmdGgx739"
      },
      "outputs": [],
      "source": [
        "# distribution of sentiments\n",
        "\n",
        "fig = plt.figure(figsize=(12,6))\n",
        "sns.countplot(x='Sentiment Value',data=df)\n",
        "plt.show()"
      ]
    },
    {
      "cell_type": "code",
      "execution_count": null,
      "metadata": {
        "colab": {
          "background_save": true
        },
        "id": "qhpTBkkFAdtz"
      },
      "outputs": [],
      "source": [
        "# distribution of sentiments across republicans and dems\n",
        "sent_dist = df.groupby(['party','Sentiment Value'])['Compound Sentiment'].count().reset_index()\n",
        "\n",
        "fig = plt.figure(figsize=(12,6))\n",
        "sns.barplot(x=\"party\", y=\"Compound Sentiment\", hue=\"Sentiment Value\", data=sent_dist)\n",
        "plt.ylabel('Count')\n",
        "plt.show()"
      ]
    },
    {
      "cell_type": "markdown",
      "metadata": {
        "id": "9es-Ha6WEJgJ"
      },
      "source": [
        "#### Sentiment Tree Map"
      ]
    },
    {
      "cell_type": "code",
      "execution_count": null,
      "metadata": {
        "colab": {
          "background_save": true
        },
        "id": "-8AtjkieEASD"
      },
      "outputs": [],
      "source": [
        "# all tweets\n",
        "\n",
        "df_negative_all = df[df['Sentiment Value']=='negative']\n",
        "df_positive_all = df[df['Sentiment Value']=='positive']\n",
        "df_neutral_all = df[df['Sentiment Value']=='neutral']\n",
        "\n",
        "# negative\n",
        "fig = all_words_array(df_negative_all, 'Negative ')\n",
        "fig.show()\n",
        "\n",
        "# positive\n",
        "fig = all_words_array(df_positive_all, 'Positive ')\n",
        "fig.show()\n",
        "\n",
        "# neutral\n",
        "fig = all_words_array(df_neutral_all, 'Neutral ')\n",
        "fig.show()"
      ]
    },
    {
      "cell_type": "code",
      "execution_count": null,
      "metadata": {
        "colab": {
          "background_save": true
        },
        "id": "j7QG1_eRLrxG"
      },
      "outputs": [],
      "source": [
        "# specific tweets to dems and republicans\n",
        "\n",
        "# democrats\n",
        "df_negative_dem = dem_df[dem_df['Sentiment Value']=='negative']\n",
        "df_positive_dem = dem_df[dem_df['Sentiment Value']=='positive']\n",
        "df_neutral_dem = dem_df[dem_df['Sentiment Value']=='neutral']\n",
        "\n",
        "# republicans\n",
        "df_negative_rep = rep_df[rep_df['Sentiment Value']=='negative']\n",
        "df_positive_rep = rep_df[rep_df['Sentiment Value']=='positive']\n",
        "df_neutral_rep = rep_df[rep_df['Sentiment Value']=='neutral']\n",
        "\n",
        "# negative\\\n",
        "df_var_names = ['df_negative_dem','df_positive_dem','df_neutral_dem','df_negative_rep','df_positive_rep','df_neutral_rep']\n",
        "list_df = [df_negative_dem,df_positive_dem,df_neutral_dem,df_negative_rep,df_positive_rep,df_neutral_rep]\n",
        "\n",
        "for i, df_ in enumerate(list_df):\n",
        "\n",
        "  fig = all_words_array(df_, f'{df_var_names[i][3:11].capitalize()} {df_var_names[i][-3:].capitalize()} ')\n",
        "  fig.show()\n"
      ]
    },
    {
      "cell_type": "markdown",
      "metadata": {
        "id": "ipb4aH8aVbLr"
      },
      "source": [
        "### Time Based Analysis"
      ]
    },
    {
      "cell_type": "code",
      "execution_count": null,
      "metadata": {
        "colab": {
          "background_save": true
        },
        "id": "6gKYuyfFLr24"
      },
      "outputs": [],
      "source": [
        "df.head(5)"
      ]
    },
    {
      "cell_type": "code",
      "execution_count": null,
      "metadata": {
        "colab": {
          "background_save": true
        },
        "id": "eHDJGtt_Lr-i"
      },
      "outputs": [],
      "source": [
        "# plot tweet sentiment timeseries\n",
        "\n",
        "def get_time_sentiments(df, name:str='All'):\n",
        "\n",
        "  ''' function which compute sentiments of tweets over time'''\n",
        "\n",
        "  df[\"time_stamp\"] = pd.to_datetime(df.time_stamp)\n",
        "  df_great_2022 = df[df[\"time_stamp\"] > '2022-01-01']\n",
        "  timeline = df_great_2022.resample('D', on='time_stamp')[\"Sentiment Value\"].value_counts().unstack(1)\n",
        "\n",
        "  timeline.reset_index(inplace=True)\n",
        "\n",
        "  timeline = timeline.melt(\"time_stamp\", var_name='sentiment',  value_name='vals')\n",
        "\n",
        "  fig = plt.figure(figsize=(18,6))\n",
        "  sns.set_style(\"whitegrid\")\n",
        "  sns.lineplot(x=\"time_stamp\", y=\"vals\", hue=\"sentiment\", data=timeline, palette=[\"r\", \"g\",\"b\"])\n",
        "  plt.title(f'Time Based Analysis of {name} Tweets Sentiment',fontsize=12,fontweight='bold')\n",
        "\n",
        "  return fig\n",
        "\n",
        "fig = get_time_sentiments(df)\n",
        "plt.show()"
      ]
    },
    {
      "cell_type": "code",
      "execution_count": null,
      "metadata": {
        "colab": {
          "background_save": true
        },
        "id": "9dg5fSzFZuRJ"
      },
      "outputs": [],
      "source": [
        "# time analysis of democrats tweets\n",
        "\n",
        "fig = get_time_sentiments(dem_df, 'Democrats')\n",
        "plt.show()"
      ]
    },
    {
      "cell_type": "code",
      "execution_count": null,
      "metadata": {
        "colab": {
          "background_save": true
        },
        "id": "NRSBbv6_Zubl"
      },
      "outputs": [],
      "source": [
        "fig = get_time_sentiments(rep_df, 'Republicans')\n",
        "plt.show()"
      ]
    },
    {
      "cell_type": "markdown",
      "metadata": {
        "id": "qkwjMqZcakE0"
      },
      "source": [
        "### Probability Distributions"
      ]
    },
    {
      "cell_type": "code",
      "execution_count": null,
      "metadata": {
        "colab": {
          "background_save": true
        },
        "id": "12LVevne6giF"
      },
      "outputs": [],
      "source": [
        "\n",
        "fig = plt.figure(figsize=(16,8), constrained_layout=True)\n",
        "spec = fig.add_gridspec(ncols=2, nrows=2)\n",
        "ax0 = fig.add_subplot(spec[0, :])\n",
        "plt.title('PD Distribution Of Sentiments Across Tweets',fontsize=14,fontweight='bold')\n",
        "sns.kdeplot(df['Negative Sentiment'],label='Negative Sentiment',lw=2.5,shade=True)\n",
        "sns.kdeplot(df['Positive Sentiment'],label='Positive Sentiment',lw=2.5,shade=True)\n",
        "sns.kdeplot(df['Neutral Sentiment'], label='Neutral Sentiment',lw=2.5, shade=True)\n",
        "plt.legend()\n",
        "\n",
        "# plot democrats\n",
        "ax10 = fig.add_subplot(spec[1, 0])\n",
        "plt.title('PD Distribution Of Sentiments - Democrats',fontsize=12,fontweight='bold')\n",
        "sns.kdeplot(dem_df['Negative Sentiment'],label='Negative Sentiment',lw=2.5,shade=True)\n",
        "sns.kdeplot(dem_df['Positive Sentiment'],label='Positive Sentiment',lw=2.5,shade=True)\n",
        "sns.kdeplot(dem_df['Neutral Sentiment'], label='Neutral Sentiment',lw=2.5, shade=True)\n",
        "plt.xlabel('Sentiment Value',fontsize=14)\n",
        "\n",
        "# plot republicans\n",
        "ax11 = fig.add_subplot(spec[1, 1])\n",
        "plt.title('PD Distribution Of Sentiments - Republicans',fontsize=12,fontweight='bold')\n",
        "sns.kdeplot(rep_df['Negative Sentiment'],label='Negative Sentiment',lw=2.5,shade=True)\n",
        "sns.kdeplot(rep_df['Positive Sentiment'],label='Positive Sentiment',lw=2.5,shade=True)\n",
        "sns.kdeplot(rep_df['Neutral Sentiment'], label='Neutral Sentiment',lw=2.5, shade=True)\n",
        "plt.xlabel('Sentiment Value',fontsize=14)\n",
        "ax11.set_yticklabels([])\n",
        "ax11.set(ylabel=None)\n",
        "plt.show()"
      ]
    },
    {
      "cell_type": "markdown",
      "metadata": {
        "id": "TcqIBYuFuS03"
      },
      "source": [
        "## **Emotion Analysis**"
      ]
    },
    {
      "cell_type": "markdown",
      "metadata": {
        "id": "SiQhCECsCg2J"
      },
      "source": [
        "Emotion analysis is the process of identifying and analyzing the underlying emotions expressed in textual data. Emotions include; fear, anger, happiness, sadness, love, inspiration, or neutral."
      ]
    },
    {
      "cell_type": "code",
      "execution_count": null,
      "metadata": {
        "colab": {
          "background_save": true
        },
        "id": "bBU9nVP_ZLIe"
      },
      "outputs": [],
      "source": [
        "#  install the hugging face transformer pipeline\n",
        "\n",
        "!pip install transformers -q"
      ]
    },
    {
      "cell_type": "code",
      "execution_count": null,
      "metadata": {
        "colab": {
          "background_save": true
        },
        "id": "UstTj9hpZLNJ"
      },
      "outputs": [],
      "source": [
        "#  import transformer pipeline\n",
        "\n",
        "from transformers import pipeline"
      ]
    },
    {
      "cell_type": "code",
      "execution_count": null,
      "metadata": {
        "colab": {
          "background_save": true
        },
        "id": "yYZGIsTNZLQB"
      },
      "outputs": [],
      "source": [
        "# download emoroberta\n",
        "\n",
        "emotion = pipeline('sentiment-analysis',model='arpanghoshal/EmoRoBERTa', device=1)"
      ]
    },
    {
      "cell_type": "code",
      "execution_count": null,
      "metadata": {
        "colab": {
          "background_save": true
        },
        "id": "_VsFGYCNZLTA"
      },
      "outputs": [],
      "source": [
        "# extract emotions and emotion score of each tweet\n",
        "\n",
        "def get_emotion_label (text):\n",
        "  \"\"\" Function to get the emotion lables score. \n",
        "\n",
        "  Parameters\n",
        "  ----------\n",
        "  tweet: str\n",
        "    tweet text\n",
        "    \n",
        "  Returns\n",
        "  -------\n",
        "  emotion: str\n",
        "    emotion label\n",
        "    \n",
        "  \"\"\"\n",
        "\n",
        "  return (emotion(text)[0]['label'])\n",
        "\n",
        "\n",
        "def get_emotion_score (text):\n",
        "  \"\"\" Function to get the emotion score. \n",
        "\n",
        "  Parameters\n",
        "  ----------\n",
        "  tweet: str\n",
        "    tweet text\n",
        "    \n",
        "  Returns\n",
        "  -------\n",
        "  score : float\n",
        "    emotion score.\n",
        "    \n",
        "  \"\"\"\n",
        "\n",
        "  return (emotion(text)[0]['score'])"
      ]
    },
    {
      "cell_type": "code",
      "execution_count": null,
      "metadata": {
        "colab": {
          "background_save": true
        },
        "id": "5t7igSw0ZLWG"
      },
      "outputs": [],
      "source": [
        ""
      ]
    },
    {
      "cell_type": "code",
      "execution_count": null,
      "metadata": {
        "colab": {
          "background_save": true
        },
        "id": "HSZHpZCfZLYp"
      },
      "outputs": [],
      "source": [
        ""
      ]
    },
    {
      "cell_type": "code",
      "execution_count": null,
      "metadata": {
        "colab": {
          "background_save": true
        },
        "id": "T8NS_jqdZLbI"
      },
      "outputs": [],
      "source": [
        ""
      ]
    },
    {
      "cell_type": "code",
      "execution_count": null,
      "metadata": {
        "colab": {
          "background_save": true
        },
        "id": "9h1JJ6BmZLfC"
      },
      "outputs": [],
      "source": [
        ""
      ]
    }
  ],
  "metadata": {
    "accelerator": "GPU",
    "colab": {
      "name": "HouseReps.ipynb",
      "provenance": [],
      "collapsed_sections": [
        "3DC0PZ7Frb0c",
        "7HgdLfhZ4iIt",
        "R6JvObRnVEMo",
        "tVtqGQpEMFQb",
        "F1LxO1kKb7j6",
        "-sTmOThV_oOA",
        "9es-Ha6WEJgJ",
        "ipb4aH8aVbLr",
        "qkwjMqZcakE0"
      ],
      "authorship_tag": "ABX9TyM/YGqZuw9AsTdYAYgz9Znr",
      "include_colab_link": true
    },
    "gpuClass": "standard",
    "kernelspec": {
      "display_name": "Python 3",
      "name": "python3"
    },
    "language_info": {
      "name": "python"
    }
  },
  "nbformat": 4,
  "nbformat_minor": 0
}